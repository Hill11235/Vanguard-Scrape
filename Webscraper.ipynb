{
 "cells": [
  {
   "cell_type": "markdown",
   "metadata": {},
   "source": [
    "# Financial Data Webscraper\n",
    "\n",
    "Code to scrape Vanguard and Nutmeg ISA values. Uses Selenium and parses HTML to scrape data. Then adds necessary variables to existing CSV file to give daily movements.\n",
    "\n",
    "Need to install chrome webdriver in order to run"
   ]
  },
  {
   "cell_type": "code",
   "execution_count": 1,
   "metadata": {},
   "outputs": [],
   "source": [
    "import pandas as pd\n",
    "from selenium import webdriver\n",
    "from selenium.webdriver.common.keys import Keys\n",
    "from datetime import date\n",
    "from time import sleep\n",
    "from random import seed, randint"
   ]
  },
  {
   "cell_type": "markdown",
   "metadata": {},
   "source": [
    "Define script which accesses Vanguard: "
   ]
  },
  {
   "cell_type": "code",
   "execution_count": 2,
   "metadata": {},
   "outputs": [],
   "source": [
    "#log in details and .exe location\n",
    "chromeLoc = \"C:\\\\Users\\\\EthanHill\\\\Documents\\\\ChromeDriver\\\\chromedriver_win32\\\\chromedriver.exe\"\n",
    "vanLoc = \"https://secure.vanguardinvestor.co.uk/Login?intcmpgn=header_login_link\"\n",
    "username = \"\"\n",
    "password = \"\"\n",
    "\n",
    "seed(1)\n",
    "\n",
    "driver = webdriver.Chrome(chromeLoc)\n",
    "\n",
    "driver.get(vanLoc)\n",
    "sleep(randint(3, 10))\n",
    "\n",
    "#input log in details and log in\n",
    "user_input1 = driver.find_element_by_xpath('//*[@id=\"__GUID_1007\"]')\n",
    "user_input1.send_keys(username)\n",
    "sleep(randint(3, 10))\n",
    "\n",
    "user_input2 = driver.find_element_by_xpath('//*[@id=\"__GUID_1008\"]')\n",
    "user_input2.send_keys(password)\n",
    "sleep(randint(3, 10))\n",
    "\n",
    "submit_button = driver.find_element_by_xpath('/html/body/div[4]/div/div[3]/div/div/div[2]/div/form/div[2]/div[3]/button')\n",
    "submit_button.click()\n",
    "sleep(randint(3, 10))"
   ]
  },
  {
   "cell_type": "markdown",
   "metadata": {},
   "source": [
    "Pull ISA value from Vanguard and store in variable. Log out of Vanguard and close chromium window: "
   ]
  },
  {
   "cell_type": "code",
   "execution_count": 3,
   "metadata": {},
   "outputs": [],
   "source": [
    "daily_val = driver.find_element_by_xpath('/html/body/div[4]/div/div/div/div[2]/div/div[1]/section/div/div/div[2]/div/div/span')\n",
    "daily_val = daily_val.text\n",
    "sleep(randint(3, 10))\n",
    "\n",
    "logout = driver.find_element_by_xpath('//*[@id=\"utility-logoff\"]')\n",
    "logout.click()\n",
    "\n",
    "driver.quit()\n",
    "\n",
    "#converts daily value from string to float\n",
    "daily_val = daily_val[1:]\n",
    "daily_val = float(daily_val.replace(\",\" , \"\"))"
   ]
  },
  {
   "cell_type": "markdown",
   "metadata": {},
   "source": [
    "Now take daily value and add it to CSV tracking values"
   ]
  },
  {
   "cell_type": "code",
   "execution_count": 4,
   "metadata": {},
   "outputs": [],
   "source": [
    "#import CSV with values\n",
    "loc = \"C:\\\\Users\\\\EthanHill\\\\Desktop\\\\Daily NAV.csv\"\n",
    "\n",
    "dNAV = pd.read_csv(loc)\n",
    "\n",
    "#Append date and today's value to Daily NAV CSV\n",
    "today = date.today()\n",
    "d1 = today.strftime(\"%d/%m/%Y\")\n",
    "\n",
    "df1 = pd.DataFrame({\"Date\" : [d1],\n",
    "                    \"Vanguard\" : [daily_val]})\n",
    "\n",
    "\n",
    "dNAV = dNAV.append(df1, ignore_index = True) \n",
    "\n",
    "#Save updated dataframe to CSV\n",
    "dNAV.to_csv(loc, index=False)"
   ]
  }
 ],
 "metadata": {
  "kernelspec": {
   "display_name": "Python 3",
   "language": "python",
   "name": "python3"
  },
  "language_info": {
   "codemirror_mode": {
    "name": "ipython",
    "version": 3
   },
   "file_extension": ".py",
   "mimetype": "text/x-python",
   "name": "python",
   "nbconvert_exporter": "python",
   "pygments_lexer": "ipython3",
   "version": "3.7.6"
  }
 },
 "nbformat": 4,
 "nbformat_minor": 4
}
